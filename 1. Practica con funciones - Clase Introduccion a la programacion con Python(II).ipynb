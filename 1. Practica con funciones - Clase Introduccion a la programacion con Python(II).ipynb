{
 "cells": [
  {
   "cell_type": "markdown",
   "id": "6a396575",
   "metadata": {},
   "source": [
    "# Ejercicio 1"
   ]
  },
  {
   "cell_type": "markdown",
   "id": "36810d99",
   "metadata": {},
   "source": [
    "Escribir una función para calcular el factorial de un número cualquiera."
   ]
  },
  {
   "cell_type": "markdown",
   "id": "95407ba3",
   "metadata": {},
   "source": [
    "### Consideraciones Teóricas\n",
    "\n",
    "En un factorial los casos se reducen a:\n",
    "1. 0! = 1\n",
    "2. Numeros decimales positivos y negativos: Puede calcularse el factorial utilizando la 'función gamma' *(Se despreciará en la función a generar)*\n",
    "3. Numeros enteros negativos: no se puede calcular el factorial.\n",
    "4. Número entero positivo: El factorial de n (n!) se define como el *producto* de todos los números positivos(naturales) desde 1 hasta n."
   ]
  },
  {
   "cell_type": "markdown",
   "id": "18605d3e",
   "metadata": {},
   "source": [
    "### Código"
   ]
  },
  {
   "cell_type": "code",
   "execution_count": 81,
   "id": "03d93334",
   "metadata": {},
   "outputs": [],
   "source": [
    "def calculate_factorial(x):                # Defino la función y lo que debe realizar en cada caso particular\n",
    "    \n",
    "    x_float=float(x)\n",
    "    \n",
    "    if x==0:                                                                          # Caso 1\n",
    "        print('1')\n",
    "    elif type(x)==type(x_float):                                                      # Caso 2\n",
    "        print('Esta función solo calcula el factorial de números enteros positivos')\n",
    "    elif x < 0 and type(x) != type(x_float):                                          # Caso 3\n",
    "        print('No se puede calcular el factorial de un número entero negativo') \n",
    "    else:                                                                             # Caso 4\n",
    "        factorial = 1                       \n",
    "        while x > 0:                      \n",
    "            factorial *= x                 \n",
    "            x -=1                           \n",
    "        return factorial                   # Retorna el resultado"
   ]
  },
  {
   "cell_type": "markdown",
   "id": "1e171f52",
   "metadata": {},
   "source": [
    "### Prueba de funcionamiento del código"
   ]
  },
  {
   "cell_type": "code",
   "execution_count": 86,
   "id": "442d3562",
   "metadata": {},
   "outputs": [
    {
     "data": {
      "text/plain": [
       "6"
      ]
     },
     "execution_count": 86,
     "metadata": {},
     "output_type": "execute_result"
    }
   ],
   "source": [
    "calculate_factorial(3)"
   ]
  },
  {
   "cell_type": "markdown",
   "id": "22ff498a",
   "metadata": {},
   "source": [
    "# Ejercicio 2"
   ]
  },
  {
   "cell_type": "markdown",
   "id": "2fdacf8e",
   "metadata": {},
   "source": [
    "Escribir una función para calcular la suma de una serie comenzando por un número cualquiera dado y terminando en otro número que debe ser mayor al primero (también dado)."
   ]
  },
  {
   "cell_type": "markdown",
   "id": "0549e574",
   "metadata": {},
   "source": [
    "#### *Consideraciones adicionales: La función solo realiza la sumatoria de numeros enteros.*"
   ]
  },
  {
   "cell_type": "markdown",
   "id": "8a15dfee",
   "metadata": {},
   "source": [
    "### Código"
   ]
  },
  {
   "cell_type": "code",
   "execution_count": 92,
   "id": "827b680e",
   "metadata": {},
   "outputs": [],
   "source": [
    "def suma(x,y):                              # Defino la función y lo que debe realizar\n",
    "     \n",
    "    x_float=float(x)                       \n",
    "    y_float=float(y)\n",
    "    \n",
    "    if type(x)==type(x_float) or type(y)==type(y_float):  # Siguiendo las consideraciones adicionales\n",
    "        print('Ingrese valores enteros')\n",
    "    elif  x < y :\n",
    "        suma = 0\n",
    "        while x <= y:\n",
    "            suma += x\n",
    "            x +=1\n",
    "        return suma                        # Retorna el resultado si x < y y si ambos son enteros\n",
    "    else:\n",
    "        print('El valor de x debe ser mayor que el de y para realizar la sumatoria')"
   ]
  },
  {
   "cell_type": "markdown",
   "id": "4b733fef",
   "metadata": {},
   "source": [
    "### Prueba de funcionamiento del código"
   ]
  },
  {
   "cell_type": "code",
   "execution_count": 94,
   "id": "e715cc72",
   "metadata": {},
   "outputs": [
    {
     "data": {
      "text/plain": [
       "6"
      ]
     },
     "execution_count": 94,
     "metadata": {},
     "output_type": "execute_result"
    }
   ],
   "source": [
    "suma(1,3)"
   ]
  }
 ],
 "metadata": {
  "kernelspec": {
   "display_name": "Python 3 (ipykernel)",
   "language": "python",
   "name": "python3"
  },
  "language_info": {
   "codemirror_mode": {
    "name": "ipython",
    "version": 3
   },
   "file_extension": ".py",
   "mimetype": "text/x-python",
   "name": "python",
   "nbconvert_exporter": "python",
   "pygments_lexer": "ipython3",
   "version": "3.9.7"
  }
 },
 "nbformat": 4,
 "nbformat_minor": 5
}
