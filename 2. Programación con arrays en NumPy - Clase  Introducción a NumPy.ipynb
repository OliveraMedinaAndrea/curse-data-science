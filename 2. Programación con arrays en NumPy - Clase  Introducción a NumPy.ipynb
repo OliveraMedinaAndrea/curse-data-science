{
 "cells": [
  {
   "cell_type": "markdown",
   "id": "37e48003",
   "metadata": {},
   "source": [
    "# Ejercicio 1"
   ]
  },
  {
   "cell_type": "markdown",
   "id": "ac4d8683",
   "metadata": {},
   "source": [
    "Generar un array aleatorio de 100 elementos. Calcular la mediana correspondiente.\n",
    "\n",
    "#### Consideraciones:\n",
    "* No se especifica la forma del array por lo que la considere de libre elección."
   ]
  },
  {
   "cell_type": "markdown",
   "id": "29232ef4",
   "metadata": {},
   "source": [
    "### Código"
   ]
  },
  {
   "cell_type": "code",
   "execution_count": 2,
   "id": "b23db12a",
   "metadata": {},
   "outputs": [],
   "source": [
    "import numpy as np\n",
    "np.random.seed(1) # Para obtener siempre el mismo array aleatorio\n",
    "random_array = np.random.randint(11,size=100)"
   ]
  },
  {
   "cell_type": "markdown",
   "id": "169b75ab",
   "metadata": {},
   "source": [
    "### Prueba de funcionamiento del código"
   ]
  },
  {
   "cell_type": "code",
   "execution_count": 319,
   "id": "30b61316",
   "metadata": {},
   "outputs": [
    {
     "data": {
      "text/plain": [
       "array([ 5,  8,  9,  5,  0,  0,  1,  7,  6,  9,  2,  4,  5,  2,  4, 10,  2,\n",
       "        4,  7,  7,  9,  1,  7,  0,  6,  9,  9,  7,  6,  9,  1,  0,  1,  8,\n",
       "        8,  3, 10,  9,  8,  7,  3,  6,  5,  1,  9,  3,  4,  8,  1, 10,  4,\n",
       "        0,  3,  9,  2,  0,  4,  9,  2,  7,  7, 10,  9,  8,  6,  9,  3,  7,\n",
       "        7,  4,  5,  9,  3,  6,  8,  0,  2, 10,  7,  7,  9,  7,  3, 10,  0,\n",
       "        8,  7,  7,  1,  1,  3,  0,  8,  6,  4,  5,  6,  2,  5,  7])"
      ]
     },
     "metadata": {},
     "output_type": "display_data"
    },
    {
     "name": "stdout",
     "output_type": "stream",
     "text": [
      "Número de elementos del array aleatorio: 100\n",
      "La mediana del array aleatorio es:  6.0\n"
     ]
    }
   ],
   "source": [
    "display(random_array)\n",
    "print('Número de elementos del array aleatorio:',random_array.size)\n",
    "print('La mediana del array aleatorio es: ',np.median(random_array))"
   ]
  },
  {
   "cell_type": "markdown",
   "id": "60b41732",
   "metadata": {},
   "source": [
    "# Ejercicio 2"
   ]
  },
  {
   "cell_type": "markdown",
   "id": "ccbd3d06",
   "metadata": {},
   "source": [
    "Recordar los ejercicios con funciones para cálculo de factorial y suma de serie de la Clase 02. Repetir ambos ejercicios, pero ahora utilizar las nuevas operaciones aprendidas con los ndarrays."
   ]
  },
  {
   "cell_type": "markdown",
   "id": "cb38da76",
   "metadata": {},
   "source": [
    "## **Ejercicio 1: Cálculo del factorial**\n",
    "\n",
    "Recodando la sentencia: *Escribir una función para calcular el factorial de un número cualquiera.*"
   ]
  },
  {
   "cell_type": "markdown",
   "id": "78963028",
   "metadata": {},
   "source": [
    "### Código"
   ]
  },
  {
   "cell_type": "code",
   "execution_count": 22,
   "id": "70dde037",
   "metadata": {},
   "outputs": [],
   "source": [
    "import numpy as np\n",
    "\n",
    "def factorial(x):                            # Defino la función\n",
    "   \n",
    "    x_float = float(x)                        # 0!\n",
    "    if x == 0: \n",
    "        print('1')                                                          \n",
    "    elif x < 0 or type(x)==type(x_float):     # numeros negativos o float                                             \n",
    "        print('Esta función solo calcula el factorial de números enteros positivos')\n",
    "    else:\n",
    "        array = np.arange(1,x+1)             # numeros enteros positivos\n",
    "        factorial = np.prod(array)\n",
    "        return print(x,'! =', factorial)"
   ]
  },
  {
   "cell_type": "markdown",
   "id": "e0e6abd3",
   "metadata": {},
   "source": [
    "### Pruebas de funcionamiento del código"
   ]
  },
  {
   "cell_type": "code",
   "execution_count": 23,
   "id": "44753dba",
   "metadata": {},
   "outputs": [
    {
     "name": "stdout",
     "output_type": "stream",
     "text": [
      "4 ! = 24\n"
     ]
    }
   ],
   "source": [
    "factorial(4)"
   ]
  },
  {
   "cell_type": "markdown",
   "id": "56a114f6",
   "metadata": {},
   "source": [
    "## **Ejercicio 2: Cálculo de la sumatoria**\n",
    "\n",
    "Recodando la sentencia: *Escribir una función para calcular la suma de una serie comenzando por un número cualquiera dado y terminando en otro número que debe ser mayor al primero (también dado).*\n"
   ]
  },
  {
   "cell_type": "markdown",
   "id": "dcec4a2a",
   "metadata": {},
   "source": [
    "### Código"
   ]
  },
  {
   "cell_type": "code",
   "execution_count": 60,
   "id": "070d1310",
   "metadata": {},
   "outputs": [],
   "source": [
    "def suma(x,y):                                            # Defino la función y lo que debe realizar\n",
    "     \n",
    "    x_float=float(x)                       \n",
    "    y_float=float(y)\n",
    "    \n",
    "    if type(x)==type(x_float) or type(y)==type(y_float):  # si x o y son float\n",
    "        print('Ingrese valores enteros')\n",
    "        \n",
    "    elif x < y :                                          \n",
    "        array = np.arange(x,y+1)\n",
    "        suma = np.sum(array)\n",
    "        return suma  \n",
    "    \n",
    "    else:                                                # si x < y\n",
    "        print('El valor de y debe ser mayor que el de x  para realizar la sumatoria')"
   ]
  },
  {
   "cell_type": "markdown",
   "id": "a7223273",
   "metadata": {},
   "source": [
    "### Prueba de funcionamiento del código"
   ]
  },
  {
   "cell_type": "code",
   "execution_count": 64,
   "id": "b30fd054",
   "metadata": {
    "scrolled": true
   },
   "outputs": [
    {
     "data": {
      "text/plain": [
       "6"
      ]
     },
     "execution_count": 64,
     "metadata": {},
     "output_type": "execute_result"
    }
   ],
   "source": [
    "suma(1,3)"
   ]
  }
 ],
 "metadata": {
  "kernelspec": {
   "display_name": "Python 3 (ipykernel)",
   "language": "python",
   "name": "python3"
  },
  "language_info": {
   "codemirror_mode": {
    "name": "ipython",
    "version": 3
   },
   "file_extension": ".py",
   "mimetype": "text/x-python",
   "name": "python",
   "nbconvert_exporter": "python",
   "pygments_lexer": "ipython3",
   "version": "3.9.7"
  }
 },
 "nbformat": 4,
 "nbformat_minor": 5
}
